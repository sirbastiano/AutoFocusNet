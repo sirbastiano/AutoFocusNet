{
 "cells": [
  {
   "cell_type": "code",
   "execution_count": null,
   "metadata": {},
   "outputs": [],
   "source": [
    "RAW DATA: \n",
    "S1A_S3_SLC__1SDH_20240524T213606_20240524T213631_054018_069139_A9AD\n",
    "\n",
    "SLC:\n",
    "S1A_S3_RAW__0SDH_20240524T213606_20240524T213631_054018_069139_241A"
   ]
  }
 ],
 "metadata": {
  "language_info": {
   "name": "python"
  }
 },
 "nbformat": 4,
 "nbformat_minor": 2
}
