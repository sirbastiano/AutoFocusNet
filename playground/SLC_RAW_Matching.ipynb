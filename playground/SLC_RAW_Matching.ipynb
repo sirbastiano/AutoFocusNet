{
 "cells": [
  {
   "cell_type": "code",
   "execution_count": 1,
   "metadata": {},
   "outputs": [
    {
     "name": "stdout",
     "output_type": "stream",
     "text": [
      "Intel MKL WARNING: Support of Intel(R) Streaming SIMD Extensions 4.2 (Intel(R) SSE4.2) enabled only processors has been deprecated. Intel oneAPI Math Kernel Library 2025.0 will require Intel(R) Advanced Vector Extensions (Intel(R) AVX) instructions.\n",
      "Intel MKL WARNING: Support of Intel(R) Streaming SIMD Extensions 4.2 (Intel(R) SSE4.2) enabled only processors has been deprecated. Intel oneAPI Math Kernel Library 2025.0 will require Intel(R) Advanced Vector Extensions (Intel(R) AVX) instructions.\n"
     ]
    },
    {
     "ename": "SyntaxError",
     "evalue": "invalid syntax (io.py, line 25)",
     "output_type": "error",
     "traceback": [
      "Traceback \u001b[0;36m(most recent call last)\u001b[0m:\n",
      "\u001b[0m  File \u001b[1;32m~/opt/anaconda3/envs/autofocus/lib/python3.11/site-packages/IPython/core/interactiveshell.py:3577\u001b[0m in \u001b[1;35mrun_code\u001b[0m\n    exec(code_obj, self.user_global_ns, self.user_ns)\u001b[0m\n",
      "\u001b[0;36m  Cell \u001b[0;32mIn[1], line 7\u001b[0;36m\n\u001b[0;31m    from SARLens.utils.io import plot_with_cdf, plot2_with_cdf, read_tif, dump, load, plot_histogram\u001b[0;36m\n",
      "\u001b[0;36m  File \u001b[0;32m~/Desktop/AutoFocusNet/SARLens/utils/io.py:25\u001b[0;36m\u001b[0m\n\u001b[0;31m    <<<<<<< HEAD\u001b[0m\n\u001b[0m    ^\u001b[0m\n\u001b[0;31mSyntaxError\u001b[0m\u001b[0;31m:\u001b[0m invalid syntax\n"
     ]
    }
   ],
   "source": [
    "%load_ext autoreload\n",
    "%autoreload 2\n",
    "\n",
    "import rasterio\n",
    "import pandas as pd \n",
    "\n",
    "from SARLens.utils.io import plot_with_cdf, plot2_with_cdf, read_tif, dump, load, plot_histogram\n",
    "from SARLens.utils.printsummary import summarize_2d_array\n",
    "from SARLens.autofocus.metrics import ssim, psnr"
   ]
  },
  {
   "cell_type": "markdown",
   "metadata": {},
   "source": [
    "# First Matching SAR - SLC"
   ]
  },
  {
   "cell_type": "code",
   "execution_count": null,
   "metadata": {},
   "outputs": [],
   "source": [
    "RAW_PATH = '/Users/robertodelprete/Desktop/AutoFocusNet/Data/DECODED/s1a-s3-raw-s-hh-20240524t213606-20240524t213631-054018-069139/s1a-s3-raw-s-hh-20240524t213606-20240524t213631-054018-069139.pkl'\n",
    "SLC_PATH = '/Users/robertodelprete/Desktop/AutoFocusNet/Data/SLC-SRC/S1A_S3_SLC__1SDH_20240524T213606_20240524T213631_054018_069139_A9AD.SAFE/measurement/s1a-s3-slc-hh-20240524t213606-20240524t213631-054018-069139-001.tiff'\n",
    "\n",
    "SLC = read_tif(SLC_PATH)\n",
    "RAW = pd.read_pickle(RAW_PATH)"
   ]
  },
  {
   "cell_type": "code",
   "execution_count": null,
   "metadata": {},
   "outputs": [],
   "source": [
    "# Print the number of columns in RAW and SLC\n",
    "print(\"Number of columns in RAW:\", RAW.shape[1])\n",
    "print(\"Number of columns in SLC:\", SLC.shape[1])\n",
    "\n",
    "# Calculate and print the difference\n",
    "cdifference = RAW.shape[1] - SLC.shape[1]\n",
    "print(\"Difference in the number of columns:\", cdifference)\n",
    "\n",
    "# Print the number of rows in RAW and SLC\n",
    "print(\"Number of rows in RAW:\", RAW.shape[0])\n",
    "print(\"Number of rows in SLC:\", SLC.shape[0])\n",
    "\n",
    "# Calculate and print the difference\n",
    "rdifference = RAW.shape[0] - SLC.shape[0]\n",
    "print(\"Difference in the number of rows:\", rdifference)\n",
    "print(\"This is huge because we are not taking into account the other burst (9).\")"
   ]
  },
  {
   "cell_type": "code",
   "execution_count": null,
   "metadata": {},
   "outputs": [],
   "source": [
    "cstart_idx = int(abs(cdifference/2))\n",
    "\n",
    "# Total packets is:\n",
    "# BurstID   rows        %  \n",
    "# 8         19250       39.333074518297536\n",
    "# 9         28875       58.99961177744631\n",
    "\n",
    "rstart_idx = int(abs((SLC.shape[0] - (19250+28875))/2))"
   ]
  },
  {
   "cell_type": "code",
   "execution_count": null,
   "metadata": {},
   "outputs": [],
   "source": [
    "#                 !* Match the size of the Burst 8\n",
    "SLC_view = SLC[0:RAW.shape[0], :7500]\n",
    "RAW_view = RAW[0:, cstart_idx:cstart_idx+7500]\n",
    "\n",
    "plot_with_cdf(SLC_view)\n",
    "plot_with_cdf(RAW_view)"
   ]
  },
  {
   "cell_type": "code",
   "execution_count": null,
   "metadata": {},
   "outputs": [],
   "source": [
    "dump(obj=SLC_view, filename='./dump/SLC.pkl')\n",
    "dump(obj=RAW_view, filename='./dump/RAW.pkl')"
   ]
  },
  {
   "cell_type": "code",
   "execution_count": null,
   "metadata": {},
   "outputs": [],
   "source": []
  },
  {
   "cell_type": "markdown",
   "metadata": {},
   "source": [
    "# Second Matching RAW - SLC"
   ]
  },
  {
   "cell_type": "code",
   "execution_count": null,
   "metadata": {},
   "outputs": [],
   "source": [
    "RAW, SLC = load('./dump/RAW.pkl'), load('./dump/SLC.pkl') "
   ]
  },
  {
   "cell_type": "code",
   "execution_count": null,
   "metadata": {},
   "outputs": [],
   "source": [
    "A=5000\n",
    "B=2000\n",
    "hsize = 3000\n",
    "vsize = 3000\n",
    "\n",
    "rstart_idx = 1301//2 + 18\n",
    "cstart_idx = 0\n",
    "\n",
    "cstart_idx2 = 5\n",
    "\n",
    "\n",
    "view_raw, view_slc = RAW[A+rstart_idx:A+rstart_idx+hsize, cstart_idx+B:cstart_idx+B+vsize], SLC[A:A+hsize, cstart_idx2+B:cstart_idx2+B+vsize]\n",
    "\n",
    "# Set values where view_slc is zero to a very small number to avoid division by zero\n",
    "import numpy as np\n",
    "\n",
    "def safe_convert(img):\n",
    "    img = np.where(img == 0, 1e-10, img)\n",
    "    return img\n",
    "\n",
    "\n",
    "\n",
    "view_raw, view_slc = safe_convert(view_raw), safe_convert(view_slc)\n",
    "\n",
    "print('RAW:')\n",
    "summarize_2d_array(abs(view_raw))\n",
    "print('\\nSLC':)\n",
    "summarize_2d_array(abs(view_slc))\n",
    "\n",
    "fig = plot2_with_cdf(view_raw, view_slc)\n",
    "fig.savefig('../figures/coarseRDA_vs_trueRDA.png')\n",
    "\n",
    "ratio = abs(view_raw)/abs(view_slc)\n",
    "diff = abs(view_raw)-abs(view_slc)\n",
    "\n",
    "\n",
    "plot_with_cdf(ratio, savepath='../figures/ratio_coarseRDA_vs_trueRDA.png')\n",
    "plot_with_cdf(diff, savepath='../figures/ratio_coarseRDA_vs_trueRDA.png')\n",
    "\n",
    "psnr(abs(view_raw), abs(view_slc))\n",
    "# ssim(abs(view_raw), abs(view_slc))"
   ]
  },
  {
   "cell_type": "code",
   "execution_count": null,
   "metadata": {},
   "outputs": [],
   "source": [
    "plot_histogram(diff, savepath='../figures/coarseRDA_vs_trueRDA_histogram_diff.png')\n",
    "plot_histogram(ratio, xlim=[0,100],savepath='../figures/coarseRDA_vs_trueRDA_histogram_ratio.png')"
   ]
  }
 ],
 "metadata": {
  "kernelspec": {
   "display_name": "SARLens",
   "language": "python",
   "name": "python3"
  },
  "language_info": {
   "codemirror_mode": {
    "name": "ipython",
    "version": 3
   },
   "file_extension": ".py",
   "mimetype": "text/x-python",
   "name": "python",
   "nbconvert_exporter": "python",
   "pygments_lexer": "ipython3",
   "version": "3.11.5"
  }
 },
 "nbformat": 4,
 "nbformat_minor": 2
}
