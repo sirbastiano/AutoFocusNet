{
 "cells": [
  {
   "cell_type": "code",
   "execution_count": null,
   "metadata": {},
   "outputs": [],
   "source": [
    "# This will import the autoreload extension\n",
    "%load_ext autoreload\n",
    "\n",
    "# This will set autoreload to reload all modules (excluding those that can't be reloaded)\n",
    "%autoreload 2"
   ]
  },
  {
   "cell_type": "markdown",
   "metadata": {},
   "source": [
    "# Focusing:"
   ]
  },
  {
   "cell_type": "markdown",
   "metadata": {},
   "source": [
    "### RDA:"
   ]
  },
  {
   "cell_type": "code",
   "execution_count": null,
   "metadata": {},
   "outputs": [],
   "source": [
    "from pathlib import Path\n",
    "from SARLens.processor.focus import coarseRDA\n",
    "from SARLens.utils.io import load, plot_with_cdf\n",
    "import torch\n",
    "from joblib import Parallel, delayed\n",
    "import logging\n",
    "\n",
    "import copy\n",
    "\n",
    "# Configure logging\n",
    "logging.basicConfig(level=logging.INFO, format='%(asctime)s - %(levelname)s - %(message)s')\n",
    "\n",
    "def find_decoded_pkts(pkt_n, folder):\n",
    "    f = list(Path(folder).iterdir())\n",
    "    # meta:\n",
    "    m = [x for x in f if 'metadata' in x.name]\n",
    "    m = [x for x in m if f'pkt_{pkt_n}' in x.name]\n",
    "    # prod:\n",
    "    p = [x for x in f if not 'metadata' in x.name]\n",
    "    p = [x for x in p if f'pkt_{pkt_n}' in x.name]\n",
    "    # eph:\n",
    "    e = [x for x in f if 'ephemeris' in x.name]\n",
    "    \n",
    "    return load(p[0]), load(m[0]), load(e[0])\n",
    "\n",
    "def get_RDA(radar_slice, ephemeris, metadata_slice):\n",
    "    # Ensure that radar_processor is created fresh for each thread to avoid sharing issues\n",
    "    radar_processor = coarseRDA(\n",
    "        raw_data={'echo': radar_slice, 'ephemeris': ephemeris, 'metadata': metadata_slice},\n",
    "        verbose=False,\n",
    "        backend='torch'\n",
    "    )\n",
    "    \n",
    "    return copy.deepcopy(radar_processor)\n",
    "\n",
    "def process_radar_data(slice_start, slice_end, radar_data, ephemeris, metadata):\n",
    "    logging.info(f'Processing slice from {slice_start} to {slice_end}')\n",
    "    radar_slice = copy.deepcopy(radar_data[slice_start:slice_end, :])\n",
    "    metadata_slice = copy.deepcopy(metadata[slice_start:slice_end])\n",
    "    ephemeris = copy.deepcopy(ephemeris)\n",
    "    # Ensure that radar_processor is created fresh for each thread to avoid sharing issues\n",
    "    radar_processor = get_RDA(radar_slice, ephemeris, metadata_slice)\n",
    "    \n",
    "    radar_processor.data_focus()\n",
    "    d = radar_processor.radar_data\n",
    "    del radar_processor\n",
    "    return d\n",
    "\n",
    "def parallel_process(radar_data, ephemeris, metadata, slice_size = 4096, n_jobs = 6):\n",
    "    num_slices = radar_data.shape[0] // slice_size\n",
    "    results = Parallel(n_jobs=n_jobs,prefer='threads' ,verbose=10)(delayed(process_radar_data)(i * slice_size, (i + 1) * slice_size, radar_data, ephemeris, metadata) for i in range(num_slices))\n",
    "    return results"
   ]
  },
  {
   "cell_type": "code",
   "execution_count": null,
   "metadata": {
    "notebookRunGroups": {
     "groupValue": "1"
    }
   },
   "outputs": [],
   "source": [
    "pkt_n = 1\n",
    "slice_size = 4096  # Adjust as needed\n",
    "n_jobs = 4\n",
    "\n",
    "output_folder = '/Data_large/marine/PythonProjects/AutoFocusNet/Data/CALIFORNIA/decoded/S1A_S1_RAW__0SDV_20180728T014205_20180728T014237_022988_027EB4_ACC6.SAFE'\n",
    "radar_data, metadata, ephemeris = find_decoded_pkts(pkt_n, output_folder)\n",
    "\n",
    "# Convert radar data to torch tensor\n",
    "radar_data = torch.from_numpy(radar_data).to(\"cpu\")\n",
    "# Parallel processing\n",
    "results = parallel_process(radar_data, ephemeris, metadata, slice_size, n_jobs)"
   ]
  },
  {
   "cell_type": "code",
   "execution_count": null,
   "metadata": {},
   "outputs": [],
   "source": [
    "import numpy as np \n",
    "\n",
    "plot_with_cdf(np.vstack(list(results[k] for k in range(3))), (50,10))"
   ]
  },
  {
   "cell_type": "code",
   "execution_count": null,
   "metadata": {},
   "outputs": [],
   "source": []
  }
 ],
 "metadata": {
  "kernelspec": {
   "display_name": "autofocus",
   "language": "python",
   "name": "python3"
  },
  "language_info": {
   "codemirror_mode": {
    "name": "ipython",
    "version": 3
   },
   "file_extension": ".py",
   "mimetype": "text/x-python",
   "name": "python",
   "nbconvert_exporter": "python",
   "pygments_lexer": "ipython3",
   "version": "3.10.14"
  }
 },
 "nbformat": 4,
 "nbformat_minor": 2
}
