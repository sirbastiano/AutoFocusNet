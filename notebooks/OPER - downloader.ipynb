{
 "cells": [
  {
   "cell_type": "code",
   "execution_count": null,
   "metadata": {},
   "outputs": [],
   "source": [
    "import configparser\n",
    "import os\n",
    "\n",
    "# Load configuration variables from a file\n",
    "config = configparser.ConfigParser()\n",
    "# To launch from internal folders.\n",
    "try:\n",
    "    config.read(\"config.ini\")\n",
    "    SARLENS_DIR = config[\"DIRECTORIES\"][\"SARLENS_DIR\"]\n",
    "except KeyError:\n",
    "    config.read(\"../config.ini\")\n",
    "    SARLENS_DIR = config[\"DIRECTORIES\"][\"SARLENS_DIR\"]\n",
    "    \n",
    "print(SARLENS_DIR)\n",
    "# Set environment variables\n",
    "os.environ[\"SARLENS_DIR\"] = SARLENS_DIR\n",
    "USERNAME, PSW = config[\"DATABASE\"][\"DB_USER\"], config[\"DATABASE\"][\"DB_PASSWORD\"]"
   ]
  },
  {
   "cell_type": "code",
   "execution_count": null,
   "metadata": {},
   "outputs": [],
   "source": [
    "IDX = 6\n",
    "###########################\n",
    "WKTS = config[\"STRIPWKTS\"]\n",
    "strip_wkts = list(config[\"STRIPWKTS\"].keys())\n",
    "identifier = strip_wkts[IDX].upper()\n",
    "current_wkt = WKTS[identifier]\n",
    "###########################\n",
    "print(identifier)\n",
    "print(current_wkt)\n",
    "###########################\n",
    "output_folder = f\"{SARLENS_DIR}/Data/{identifier}\"\n",
    "os.makedirs(output_folder, exist_ok=True)"
   ]
  },
  {
   "cell_type": "code",
   "execution_count": null,
   "metadata": {},
   "outputs": [],
   "source": [
    "# without --download option\n",
    "# %run utils/downloader/search.py -h\n",
    "%cd {SARLENS_DIR}\n",
    "%run utils/downloader/search.py --download --wkt \"{current_wkt}\" --start \"2012-01-01\" --end \"2024-05-31\" --out {output_folder} --max 200 --username {USERNAME} --psw {PSW} --start_idx 0"
   ]
  },
  {
   "cell_type": "markdown",
   "metadata": {},
   "source": [
    "## printer"
   ]
  },
  {
   "cell_type": "code",
   "execution_count": null,
   "metadata": {},
   "outputs": [],
   "source": [
    "# without --download option\n",
    "# %run utils/downloader/search.py -h\n",
    "# %cd {SARLENS_DIR}\n",
    "output_folder = f\"./{identifier}\"\n",
    "stringa1 = f\"mkdir {identifier} &&\"\n",
    "print(stringa1 + f\" python search.py --download --wkt '{current_wkt}' --start '2012-01-01' --end '2024-05-31' --out {output_folder} --max 200 --username {USERNAME} --psw {PSW} --start_idx 0\")"
   ]
  }
 ],
 "metadata": {
  "kernelspec": {
   "display_name": "SARLens",
   "language": "python",
   "name": "python3"
  },
  "language_info": {
   "codemirror_mode": {
    "name": "ipython",
    "version": 3
   },
   "file_extension": ".py",
   "mimetype": "text/x-python",
   "name": "python",
   "nbconvert_exporter": "python",
   "pygments_lexer": "ipython3",
   "version": "3.1.-1"
  }
 },
 "nbformat": 4,
 "nbformat_minor": 2
}
