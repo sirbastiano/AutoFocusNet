{
 "cells": [
  {
   "cell_type": "code",
   "execution_count": 4,
   "metadata": {},
   "outputs": [
    {
     "name": "stdout",
     "output_type": "stream",
     "text": [
      "/Data_large/marine/PythonProjects/AutoFocusNet\n"
     ]
    }
   ],
   "source": [
    "import configparser\n",
    "import os\n",
    "\n",
    "# Load configuration variables from a file\n",
    "config = configparser.ConfigParser()\n",
    "# To launch from internal folders.\n",
    "try:\n",
    "    config.read(\"config.ini\")\n",
    "    SARLENS_DIR = config[\"DIRECTORIES\"][\"SARLENS_DIR\"]\n",
    "except KeyError:\n",
    "    config.read(\"../config.ini\")\n",
    "    SARLENS_DIR = config[\"DIRECTORIES\"][\"SARLENS_DIR\"]\n",
    "    \n",
    "print(SARLENS_DIR)\n",
    "# Set environment variables\n",
    "os.environ[\"SARLENS_DIR\"] = SARLENS_DIR\n",
    "USERNAME, PSW = config[\"DATABASE\"][\"DB_USER\"], config[\"DATABASE\"][\"DB_PASSWORD\"]"
   ]
  },
  {
   "cell_type": "code",
   "execution_count": 5,
   "metadata": {},
   "outputs": [
    {
     "name": "stdout",
     "output_type": "stream",
     "text": [
      "SANPAOLO\n",
      "POLYGON((-46.5585 -24.2313,-46.0254 -24.2313,-46.0254 -23.7917,-46.5585 -23.7917,-46.5585 -24.2313))\n"
     ]
    }
   ],
   "source": [
    "IDX = 2\n",
    "###########################\n",
    "WKTS = config[\"STRIPWKTS\"]\n",
    "strip_wkts = list(config[\"STRIPWKTS\"].keys())\n",
    "identifier = strip_wkts[IDX].upper()\n",
    "current_wkt = WKTS[identifier]\n",
    "###########################\n",
    "print(identifier)\n",
    "print(current_wkt)\n",
    "###########################\n",
    "output_folder = f\"{SARLENS_DIR}/Data/{identifier}\"\n",
    "os.makedirs(output_folder, exist_ok=True)"
   ]
  },
  {
   "cell_type": "code",
   "execution_count": 7,
   "metadata": {},
   "outputs": [
    {
     "name": "stdout",
     "output_type": "stream",
     "text": [
      "usage: search.py [-h] [--wkt WKT] [--start START] [--end END] [--out OUT]\n",
      "                 [--max_res MAX_RES] [--start_idx START_IDX] [--download]\n",
      "                 [--username USERNAME] [--psw PSW]\n",
      "\n",
      "options:\n",
      "  -h, --help            show this help message and exit\n",
      "  --wkt WKT             WKT polygon to search\n",
      "  --start START         Start date\n",
      "  --end END             End date\n",
      "  --out OUT             Output folder of products\n",
      "  --max_res MAX_RES     Maximum number of results\n",
      "  --start_idx START_IDX\n",
      "                        Maximum number of results\n",
      "  --download            Set to all products\n",
      "  --username USERNAME   ASF username\n",
      "  --psw PSW             ASF password\n"
     ]
    }
   ],
   "source": [
    "# without --download option\n",
    "%run /Data_large/marine/PythonProjects/AutoFocusNet/SARLens/utils/downloader/search.py -h"
   ]
  },
  {
   "cell_type": "code",
   "execution_count": 10,
   "metadata": {},
   "outputs": [
    {
     "name": "stdout",
     "output_type": "stream",
     "text": [
      "Start date: 2012-01-01T00:00:00.000Z\n",
      "End date: 2024-05-31T00:00:00.000Z\n",
      "Len results: 1\n",
      "Search results: {\n",
      "  \"features\": [\n",
      "    {\n",
      "      \"geometry\": {\n",
      "        \"coordinates\": [\n",
      "          [\n",
      "            [\n",
      "              -46.1691,\n",
      "              -22.9453\n",
      "            ],\n",
      "            [\n",
      "              -46.9289,\n",
      "              -23.0738\n",
      "            ],\n",
      "            [\n",
      "              -46.5165,\n",
      "              -24.6047\n",
      "            ],\n",
      "            [\n",
      "              -45.7476,\n",
      "              -24.4734\n",
      "            ],\n",
      "            [\n",
      "              -46.1691,\n",
      "              -22.9453\n",
      "            ]\n",
      "          ]\n",
      "        ],\n",
      "        \"type\": \"Polygon\"\n",
      "      },\n",
      "      \"properties\": {\n",
      "        \"beamModeType\": \"S3\",\n",
      "        \"browse\": null,\n",
      "        \"bytes\": 1435688708,\n",
      "        \"centerLat\": -23.7751,\n",
      "        \"centerLon\": -46.3415,\n",
      "        \"fileID\": \"S1A_S3_RAW__0SDH_20240524T213606_20240524T213631_054018_069139_241A-RAW\",\n",
      "        \"fileName\": \"S1A_S3_RAW__0SDH_20240524T213606_20240524T213631_054018_069139_241A.zip\",\n",
      "        \"flightDirection\": \"ASCENDING\",\n",
      "        \"frameNumber\": 1101,\n",
      "        \"granuleType\": \"SENTINEL_1A_FRAME\",\n",
      "        \"groupID\": \"S1A_S3DH_1101_1106_054018_046\",\n",
      "        \"md5sum\": \"518190337624b98ae6d2334261a6a872\",\n",
      "        \"orbit\": 54018,\n",
      "        \"pathNumber\": 46,\n",
      "        \"pgeVersion\": null,\n",
      "        \"platform\": \"Sentinel-1A\",\n",
      "        \"polarization\": \"HH+HV\",\n",
      "        \"processingDate\": \"2024-05-24T21:36:06Z\",\n",
      "        \"processingLevel\": \"RAW\",\n",
      "        \"s3Urls\": [\n",
      "          \"s3://asf-ngap2w-p-s1-raw-98779950/S1A_S3_RAW__0SDH_20240524T213606_20240524T213631_054018_069139_241A.zip\"\n",
      "        ],\n",
      "        \"sceneName\": \"S1A_S3_RAW__0SDH_20240524T213606_20240524T213631_054018_069139_241A\",\n",
      "        \"sensor\": \"C-SAR\",\n",
      "        \"startTime\": \"2024-05-24T21:36:06Z\",\n",
      "        \"stopTime\": \"2024-05-24T21:36:31Z\",\n",
      "        \"url\": \"https://datapool.asf.alaska.edu/RAW/SA/S1A_S3_RAW__0SDH_20240524T213606_20240524T213631_054018_069139_241A.zip\"\n",
      "      },\n",
      "      \"type\": \"Feature\"\n",
      "    }\n",
      "  ],\n",
      "  \"type\": \"FeatureCollection\"\n",
      "}\n"
     ]
    }
   ],
   "source": [
    "%run /Data_large/marine/PythonProjects/AutoFocusNet/SARLens/utils/downloader/search.py --download --wkt \"{current_wkt}\" --start \"2012-01-01\" --end \"2024-05-31\" --out {output_folder} --max_res 1 --username {USERNAME} --psw {PSW} --start_idx 0"
   ]
  },
  {
   "cell_type": "markdown",
   "metadata": {},
   "source": [
    "## printer"
   ]
  },
  {
   "cell_type": "code",
   "execution_count": 6,
   "metadata": {},
   "outputs": [
    {
     "name": "stdout",
     "output_type": "stream",
     "text": [
      " python search.py --download --wkt 'POLYGON((-46.5585 -24.2313,-46.0254 -24.2313,-46.0254 -23.7917,-46.5585 -23.7917,-46.5585 -24.2313))' --start '2012-01-01' --end '2024-05-31' --out /Data_large/marine/PythonProjects/AutoFocusNet/Data/SANPAOLO --max 200 --username sirbastiano94 --psw sejmyv-cemxu3-wagniF --start_idx 0\n"
     ]
    }
   ],
   "source": [
    "# without --download option\n",
    "# %run utils/downloader/search.py -h\n",
    "# %cd {SARLENS_DIR}\n",
    "# output_folder = f\"./{identifier}\"\n",
    "# stringa1 = f\"mkdir {identifier} &&\"\n",
    "print(f\" python search.py --download --wkt '{current_wkt}' --start '2012-01-01' --end '2024-05-31' --out {output_folder} --max 200 --username {USERNAME} --psw {PSW} --start_idx 0\")"
   ]
  }
 ],
 "metadata": {
  "kernelspec": {
   "display_name": "SARLens",
   "language": "python",
   "name": "python3"
  },
  "language_info": {
   "codemirror_mode": {
    "name": "ipython",
    "version": 3
   },
   "file_extension": ".py",
   "mimetype": "text/x-python",
   "name": "python",
   "nbconvert_exporter": "python",
   "pygments_lexer": "ipython3",
   "version": "3.10.14"
  }
 },
 "nbformat": 4,
 "nbformat_minor": 2
}
