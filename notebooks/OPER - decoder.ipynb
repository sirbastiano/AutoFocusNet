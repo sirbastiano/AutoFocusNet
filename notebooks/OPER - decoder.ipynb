{
 "cells": [
  {
   "cell_type": "markdown",
   "metadata": {},
   "source": [
    "# Decoder"
   ]
  },
  {
   "cell_type": "code",
   "execution_count": 5,
   "metadata": {},
   "outputs": [],
   "source": [
    "import sentinel1decoder\n",
    "import pandas as pd\n",
    "import numpy as np\n",
    "from pathlib import Path, os\n",
    "import argparse\n",
    "import pickle\n",
    "import psutil\n",
    "\n",
    "def printmemory():\n",
    "    print(f'RAM memory usage: {psutil.virtual_memory().percent}%')\n",
    "    return\n",
    "\n",
    "data_folder = '/Users/robertodelprete/Desktop/AutoFocusNet/DATA/DATA'\n",
    "dat_files = [x for x in Path(data_folder).glob('**/*.dat') if ('annot' not in x.stem and 'index' not in x.stem)]\n",
    "\n",
    "for idx, f in enumerate(dat_files):\n",
    "    inputfile = f\n",
    "    packet = 8\n",
    "    ###\n",
    "    L0_name = Path(inputfile).stem\n",
    "    output_folder = f'/Users/robertodelprete/Desktop/AutoFocusNet/DATA/DECODED/{L0_name}'\n",
    "    os.makedirs(output_folder, exist_ok=True)\n",
    "    ###\n",
    "    l0file = sentinel1decoder.Level0File(inputfile)\n",
    "    ephemeris = l0file.ephemeris\n",
    "    ephemeris.to_pickle(os.path.join(output_folder, Path(inputfile).stem + '_ephemeris.pkl'))\n",
    "    metadata = l0file.get_burst_metadata(packet)\n",
    "    metadata.to_pickle(os.path.join(output_folder, Path(inputfile).stem + f'_pkt_{packet}_metadata.pkl'))\n",
    "\n",
    "\n",
    "# radar_data = l0file.get_burst_data(packet)\n",
    "# printmemory()\n"
   ]
  },
  {
   "cell_type": "code",
   "execution_count": 7,
   "metadata": {},
   "outputs": [],
   "source": [
    "def picklesavefile(path, datafile):\n",
    "    with open(path, 'wb') as f:\n",
    "        pickle.dump(datafile, f)"
   ]
  },
  {
   "cell_type": "code",
   "execution_count": 10,
   "metadata": {},
   "outputs": [],
   "source": [
    "picklesavefile(path=f'{output_folder}/{L0_name}.pkl', datafile=radar_data)"
   ]
  }
 ],
 "metadata": {
  "kernelspec": {
   "display_name": "SARLens",
   "language": "python",
   "name": "python3"
  },
  "language_info": {
   "codemirror_mode": {
    "name": "ipython",
    "version": 3
   },
   "file_extension": ".py",
   "mimetype": "text/x-python",
   "name": "python",
   "nbconvert_exporter": "python",
   "pygments_lexer": "ipython3",
   "version": "3.10.10"
  }
 },
 "nbformat": 4,
 "nbformat_minor": 2
}
