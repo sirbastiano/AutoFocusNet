{
 "cells": [
  {
   "cell_type": "code",
   "execution_count": null,
   "metadata": {},
   "outputs": [],
   "source": [
    "# This will import the autoreload extension\n",
    "%load_ext autoreload\n",
    "\n",
    "# This will set autoreload to reload all modules (excluding those that can't be reloaded)\n",
    "%autoreload 2"
   ]
  },
  {
   "cell_type": "code",
   "execution_count": null,
   "metadata": {
    "notebookRunGroups": {
     "groupValue": "1"
    }
   },
   "outputs": [],
   "source": [
    "import numpy as np\n",
    "import pandas as pd\n",
    "from SARLens.processor.focus import coarseRDA\n",
    "from SARLens.utils.io import load, plot_with_cdf\n",
    "import torch\n",
    "import torch.nn.functional as F  \n",
    "\n",
    "# setting device:\n",
    "device = torch.device(\"cuda:0\" if torch.cuda.is_available() else \"cpu\")"
   ]
  },
  {
   "cell_type": "markdown",
   "metadata": {},
   "source": [
    "# Focusing:"
   ]
  },
  {
   "cell_type": "markdown",
   "metadata": {},
   "source": [
    "#### Decoding"
   ]
  },
  {
   "cell_type": "code",
   "execution_count": null,
   "metadata": {},
   "outputs": [],
   "source": [
    "input_file = '/Data_large/marine/PythonProjects/AutoFocusNet/Data/SANPAOLO/S1A_S3_RAW__0SDH_20240524T213606_20240524T213631_054018_069139_241A.SAFE/s1a-s3-raw-s-hh-20240524t213606-20240524t213631-054018-069139.dat'\n",
    "output_folder = '/Data_large/marine/PythonProjects/AutoFocusNet/Data/Decoded/SANPAOLO'\n",
    "!python -m SARLens.processor.decode -i {input_file} -o {output_folder}"
   ]
  },
  {
   "cell_type": "markdown",
   "metadata": {},
   "source": [
    "### RDA:"
   ]
  },
  {
   "cell_type": "code",
   "execution_count": null,
   "metadata": {
    "notebookRunGroups": {
     "groupValue": "1"
    }
   },
   "outputs": [],
   "source": [
    "data_path = '/Data_large/marine/PythonProjects/AutoFocusNet/Data/Decoded/SANPAOLO'\n",
    "\n",
    "radar_data = load(f'{data_path}/s1a-s3-raw-s-hh-20240524t213606-20240524t213631-054018-069139_pkt_0.pkl')\n",
    "metadata = load(f'{data_path}/s1a-s3-raw-s-hh-20240524t213606-20240524t213631-054018-069139_pkt_0_metadata.pkl')\n",
    "ephemeris = load(f'{data_path}/s1a-s3-raw-s-hh-20240524t213606-20240524t213631-054018-069139_ephemeris.pkl')\n",
    "\n",
    "# init\n",
    "radar_data = torch.from_numpy(radar_data).to(\"cpu\")\n",
    "\n",
    "RadarProcessor = coarseRDA(\n",
    "    raw_data={'echo':radar_data[:,:], 'ephemeris':ephemeris, 'metadata':metadata}, \n",
    "    verbose=False, \n",
    "    backend='torch'\n",
    ")\n",
    "\n",
    "RadarProcessor.data_focus()"
   ]
  },
  {
   "cell_type": "code",
   "execution_count": null,
   "metadata": {},
   "outputs": [],
   "source": [
    "plot_with_cdf(RadarProcessor.radar_data, (24,24))"
   ]
  }
 ],
 "metadata": {
  "kernelspec": {
   "display_name": "autofocus",
   "language": "python",
   "name": "python3"
  },
  "language_info": {
   "codemirror_mode": {
    "name": "ipython",
    "version": 3
   },
   "file_extension": ".py",
   "mimetype": "text/x-python",
   "name": "python",
   "nbconvert_exporter": "python",
   "pygments_lexer": "ipython3",
   "version": "3.10.14"
  }
 },
 "nbformat": 4,
 "nbformat_minor": 2
}
