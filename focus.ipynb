{
 "cells": [
  {
   "cell_type": "code",
   "execution_count": null,
   "metadata": {},
   "outputs": [],
   "source": [
    "# This will import the autoreload extension\n",
    "%load_ext autoreload\n",
    "\n",
    "# This will set autoreload to reload all modules (excluding those that can't be reloaded)\n",
    "%autoreload 2"
   ]
  },
  {
   "cell_type": "code",
   "execution_count": null,
   "metadata": {
    "notebookRunGroups": {
     "groupValue": "1"
    }
   },
   "outputs": [],
   "source": [
    "import numpy as np\n",
    "import pandas as pd\n",
    "from SARLens.processor.focus import coarseRDA\n",
    "from SARLens.utils.io import load, plot_with_cdf, plot_with_dask\n",
    "import torch\n",
    "import torch.nn.functional as F  \n",
    "\n",
    "# setting device:\n",
    "device = torch.device(\"cuda:0\" if torch.cuda.is_available() else \"cpu\")\n",
    "\n",
    "def multiply(a, b):\n",
    "    \"\"\"\n",
    "    Multiplies two arrays a and b using the specified backend.\n",
    "    \"\"\"\n",
    "    return a * b"
   ]
  },
  {
   "cell_type": "markdown",
   "metadata": {},
   "source": [
    "# Metadata checker:"
   ]
  },
  {
   "cell_type": "code",
   "execution_count": null,
   "metadata": {},
   "outputs": [],
   "source": [
    "# from SARLens.processor.decode import header_extractor\n",
    "# inputfile = '/Users/robertodelprete/Desktop/AutoFocusNet/Data/DATA/S1A_S3_RAW__0SDH_20240524T213606_20240524T213631_054018_069139_241A.SAFE/s1a-s3-raw-s-hh-20240524t213606-20240524t213631-054018-069139.dat'\n",
    "# meta_rich = header_extractor(inputfile, 'richa')\n",
    "# meta_s1isp = header_extractor(inputfile, 's1isp')\n",
    "# meta_rich.to_pickle('meta_rich.pkl')\n",
    "# meta_s1isp.to_pickle('meta_s1isp.pkl')\n",
    "# richa_to_s1isp = {\n",
    "#     \"Packet Version Number\": \"packet_version_number\",\n",
    "#     \"Packet Type\": \"packet_type\",\n",
    "#     \"Secondary Header Flag\": \"secondary_header_flag\",\n",
    "#     \"PID\": \"pid\",\n",
    "#     \"PCAT\": \"pcat\",\n",
    "#     \"Sequence Flags\": \"sequence_flags\",\n",
    "#     \"Packet Sequence Count\": \"packet_sequence_count\",\n",
    "#     \"Packet Data Length\": \"packet_data_length\",\n",
    "#     \"Coarse Time\": \"coarse_time\",\n",
    "#     \"Fine Time\": \"fine_time\",\n",
    "#     \"Sync\": \"sync_marker\",\n",
    "#     \"Data Take ID\": \"data_take_id\",\n",
    "#     \"ECC Number\": \"ecc_num\",\n",
    "#     \"Test Mode\": \"test_mode\",\n",
    "#     \"Rx Channel ID\": \"rx_channel_id\",\n",
    "#     \"Instrument Configuration ID\": \"instrument_configuration_id\",\n",
    "#     \"Sub-commutated Ancilliary Data Word Index\": \"data_word_index\",\n",
    "#     \"Space Packet Count\": \"space_packet_count\",\n",
    "#     \"PRI Count\": \"pri_count\",\n",
    "#     \"Error Flag\": \"error_flag\",\n",
    "#     \"BAQ Mode\": \"baq_mode\",\n",
    "#     \"BAQ Block Length\": \"baq_block_length\",\n",
    "#     \"Range Decimation\": \"range_decimation\",\n",
    "#     \"Rx Gain\": \"rx_gain\",\n",
    "#     \"Tx Ramp Rate\": \"tx_ramp_rate\",\n",
    "#     \"Tx Pulse Start Frequency\": \"tx_pulse_start_freq\",\n",
    "#     \"Tx Pulse Length\": \"tx_pulse_length\",\n",
    "#     \"Rank\": \"rank\",\n",
    "#     \"PRI\": \"pri\",\n",
    "#     \"SWST\": \"swst\",\n",
    "#     \"SWL\": \"swl\",\n",
    "#     \"SAS SSB Flag\": \"ssb_flag\",\n",
    "#     \"Polarisation\": \"polarization\",\n",
    "#     \"Temperature Compensation\": \"temperature_compensation\",\n",
    "#     \"Calibration Mode\": \"cal_mode\",\n",
    "#     \"Tx Pulse Number\": \"tx_pulse_number\",\n",
    "#     \"Signal Type\": \"signal_type\",\n",
    "#     \"Swap Flag\": \"swap\",\n",
    "#     \"Swath Number\": \"swath_number\",\n",
    "#     \"Number of Quads\": \"number_of_quads\"\n",
    "# }\n",
    "\n",
    "# VERBOSE = False\n",
    "\n",
    "# idx = 129\n",
    "\n",
    "# row_rich = meta_rich.iloc[idx]\n",
    "# row_s1isp = meta_s1isp.iloc[idx]\n",
    "\n",
    "# keys = list(row_rich.keys())\n",
    "\n",
    "# non_equal_elements = []\n",
    "\n",
    "# for key in keys:\n",
    "#     try: \n",
    "#         elem_rich = row_rich[key]\n",
    "#         elem_s1isp = row_s1isp[richa_to_s1isp[key]]\n",
    "        \n",
    "#         if VERBOSE:\n",
    "#             print(key, elem_rich, float(elem_s1isp), elem_rich == float(elem_s1isp))\n",
    "        \n",
    "#         if not elem_rich == float(elem_s1isp):\n",
    "#             non_equal_elements.append((key, float(elem_rich), float(elem_s1isp)))\n",
    "\n",
    "#     except:\n",
    "#         print('Missing key:', key)\n",
    "#         continue\n",
    "\n",
    "# for elem in non_equal_elements:\n",
    "#     print(elem)"
   ]
  },
  {
   "cell_type": "markdown",
   "metadata": {},
   "source": [
    "# Focusing:"
   ]
  },
  {
   "cell_type": "markdown",
   "metadata": {},
   "source": [
    "#### Decoding"
   ]
  },
  {
   "cell_type": "code",
   "execution_count": null,
   "metadata": {},
   "outputs": [],
   "source": [
    "# input_file = '/Data_large/marine/PythonProjects/AutoFocusNet/Data/SANPAOLO/S1A_S3_RAW__0SDH_20240524T213606_20240524T213631_054018_069139_241A.SAFE/s1a-s3-raw-s-hh-20240524t213606-20240524t213631-054018-069139.dat'\n",
    "# output_folder = '/Data_large/marine/PythonProjects/AutoFocusNet/Data/Decoded/SANPAOLO'\n",
    "# !python -m SARLens.processor.decode -i {input_file} -o {output_folder}"
   ]
  },
  {
   "cell_type": "markdown",
   "metadata": {},
   "source": [
    "### Focusing:"
   ]
  },
  {
   "cell_type": "code",
   "execution_count": null,
   "metadata": {
    "notebookRunGroups": {
     "groupValue": "1"
    }
   },
   "outputs": [],
   "source": [
    "data_path = '/Data_large/marine/PythonProjects/AutoFocusNet/Data/Decoded/SANPAOLO'\n",
    "\n",
    "radar_data = load(f'{data_path}/s1a-s3-raw-s-hh-20240524t213606-20240524t213631-054018-069139_pkt_0.pkl')\n",
    "metadata = load(f'{data_path}/s1a-s3-raw-s-hh-20240524t213606-20240524t213631-054018-069139_pkt_0_metadata.pkl')\n",
    "ephemeris = load(f'{data_path}/s1a-s3-raw-s-hh-20240524t213606-20240524t213631-054018-069139_ephemeris.pkl')\n",
    "\n",
    "# init\n",
    "radar_data = torch.from_numpy(radar_data).to(\"cpu\")\n",
    "\n",
    "RadarProcessor = coarseRDA(\n",
    "    raw_data={'echo':radar_data[:,:], 'ephemeris':ephemeris, 'metadata':metadata}, \n",
    "    verbose=False, \n",
    "    backend='torch'\n",
    ")\n",
    "\n",
    "# Perform operations on padded x\n",
    "H, original_W = RadarProcessor.radar_data.shape\n",
    "print('Original shape:', H, original_W)"
   ]
  },
  {
   "cell_type": "markdown",
   "metadata": {},
   "source": [
    "#### Padding with torch functional:"
   ]
  },
  {
   "cell_type": "code",
   "execution_count": null,
   "metadata": {},
   "outputs": [],
   "source": [
    "# desired_width = 128\n",
    "\n",
    "# # Apply zero padding\n",
    "# pad_width = desired_width \n",
    "# RadarProcessor.radar_data = F.pad(RadarProcessor.radar_data, (pad_width // 2, pad_width // 2, 0, 0), 'constant', 0)\n",
    "\n",
    "# # Perform operations on padded x\n",
    "# H, W = RadarProcessor.radar_data.shape\n",
    "# print('New shape:', H, W)"
   ]
  },
  {
   "cell_type": "code",
   "execution_count": null,
   "metadata": {},
   "outputs": [],
   "source": [
    "H, W = RadarProcessor.radar_data.shape\n",
    "print('Shape:', H, W)\n",
    "\n",
    "W_PAD = 2548\n",
    "\n",
    "RadarProcessor.fft2D(w_pad=W_PAD)\n",
    "\n",
    "# RG compression\n",
    "RadarProcessor.radar_data = multiply(RadarProcessor.radar_data, \n",
    "                                RadarProcessor.get_range_filter(pad_W=W_PAD))\n",
    "\n",
    "# Remove padding\n",
    "start_index = W_PAD // 2\n",
    "end_index = start_index + original_W\n",
    "RadarProcessor.radar_data = RadarProcessor.radar_data[:, start_index:end_index]\n",
    "\n",
    "############ RCMC\n",
    "RadarProcessor.radar_data = multiply(RadarProcessor.radar_data, \n",
    "                                RadarProcessor.get_RCMC())\n",
    "# IFFT Range \n",
    "RadarProcessor.ifft_rg()\n",
    "# Az Compression\n",
    "RadarProcessor.radar_data = multiply(RadarProcessor.radar_data, \n",
    "                            RadarProcessor.get_azimuth_filter())\n",
    "# To Rg x Az:\n",
    "RadarProcessor.ifft_az()"
   ]
  },
  {
   "cell_type": "code",
   "execution_count": null,
   "metadata": {},
   "outputs": [],
   "source": [
    "plot_with_cdf(RadarProcessor.radar_data, (14,14))"
   ]
  },
  {
   "cell_type": "code",
   "execution_count": null,
   "metadata": {},
   "outputs": [],
   "source": []
  }
 ],
 "metadata": {
  "kernelspec": {
   "display_name": "autofocus",
   "language": "python",
   "name": "python3"
  },
  "language_info": {
   "codemirror_mode": {
    "name": "ipython",
    "version": 3
   },
   "file_extension": ".py",
   "mimetype": "text/x-python",
   "name": "python",
   "nbconvert_exporter": "python",
   "pygments_lexer": "ipython3",
   "version": "3.10.14"
  }
 },
 "nbformat": 4,
 "nbformat_minor": 2
}
