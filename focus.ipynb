{
 "cells": [
  {
   "cell_type": "code",
   "execution_count": 1,
   "metadata": {},
   "outputs": [
    {
     "name": "stdout",
     "output_type": "stream",
     "text": [
      "Zarr packet not installed. Zarr functionalities will not work.\n"
     ]
    }
   ],
   "source": [
    "import numpy as np\n",
    "import pandas as pd\n",
    "from SARLens.processor.focus import coarseRDA\n",
    "from SARLens.utils.io import load, plot_with_cdf"
   ]
  },
  {
   "cell_type": "markdown",
   "metadata": {},
   "source": [
    "# Metadata checker:"
   ]
  },
  {
   "cell_type": "code",
   "execution_count": 1,
   "metadata": {},
   "outputs": [],
   "source": [
    "from SARLens.processor.decode import header_extractor"
   ]
  },
  {
   "cell_type": "code",
   "execution_count": 2,
   "metadata": {},
   "outputs": [
    {
     "name": "stderr",
     "output_type": "stream",
     "text": [
      "decoded: 48941 packets [00:01, 32234.65 packets/s]\n"
     ]
    }
   ],
   "source": [
    "inputfile = '/Users/robertodelprete/Desktop/AutoFocusNet/Data/DATA/S1A_S3_RAW__0SDH_20240524T213606_20240524T213631_054018_069139_241A.SAFE/s1a-s3-raw-s-hh-20240524t213606-20240524t213631-054018-069139.dat'\n",
    "meta_rich = header_extractor(inputfile, 'richa')\n",
    "meta_s1isp = header_extractor(inputfile, 's1isp')"
   ]
  },
  {
   "cell_type": "code",
   "execution_count": 58,
   "metadata": {},
   "outputs": [],
   "source": [
    "meta_rich.to_pickle('meta_rich.pkl')\n",
    "meta_s1isp.to_pickle('meta_s1isp.pkl')"
   ]
  },
  {
   "cell_type": "code",
   "execution_count": 8,
   "metadata": {},
   "outputs": [],
   "source": [
    "richa_to_s1isp = {\n",
    "    \"Packet Version Number\": \"packet_version_number\",\n",
    "    \"Packet Type\": \"packet_type\",\n",
    "    \"Secondary Header Flag\": \"secondary_header_flag\",\n",
    "    \"PID\": \"pid\",\n",
    "    \"PCAT\": \"pcat\",\n",
    "    \"Sequence Flags\": \"sequence_flags\",\n",
    "    \"Packet Sequence Count\": \"packet_sequence_count\",\n",
    "    \"Packet Data Length\": \"packet_data_length\",\n",
    "    \"Coarse Time\": \"coarse_time\",\n",
    "    \"Fine Time\": \"fine_time\",\n",
    "    \"Sync\": \"sync_marker\",\n",
    "    \"Data Take ID\": \"data_take_id\",\n",
    "    \"ECC Number\": \"ecc_num\",\n",
    "    \"Test Mode\": \"test_mode\",\n",
    "    \"Rx Channel ID\": \"rx_channel_id\",\n",
    "    \"Instrument Configuration ID\": \"instrument_configuration_id\",\n",
    "    \"Sub-commutated Ancilliary Data Word Index\": \"data_word_index\",\n",
    "    \"Space Packet Count\": \"space_packet_count\",\n",
    "    \"PRI Count\": \"pri_count\",\n",
    "    \"Error Flag\": \"error_flag\",\n",
    "    \"BAQ Mode\": \"baq_mode\",\n",
    "    \"BAQ Block Length\": \"baq_block_length\",\n",
    "    \"Range Decimation\": \"range_decimation\",\n",
    "    \"Rx Gain\": \"rx_gain\",\n",
    "    \"Tx Ramp Rate\": \"tx_ramp_rate\",\n",
    "    \"Tx Pulse Start Frequency\": \"tx_pulse_start_freq\",\n",
    "    \"Tx Pulse Length\": \"tx_pulse_length\",\n",
    "    \"Rank\": \"rank\",\n",
    "    \"PRI\": \"pri\",\n",
    "    \"SWST\": \"swst\",\n",
    "    \"SWL\": \"swl\",\n",
    "    \"SAS SSB Flag\": \"ssb_flag\",\n",
    "    \"Polarisation\": \"polarization\",\n",
    "    \"Temperature Compensation\": \"temperature_compensation\",\n",
    "    \"Calibration Mode\": \"cal_mode\",\n",
    "    \"Tx Pulse Number\": \"tx_pulse_number\",\n",
    "    \"Signal Type\": \"signal_type\",\n",
    "    \"Swap Flag\": \"swap\",\n",
    "    \"Swath Number\": \"swath_number\",\n",
    "    \"Number of Quads\": \"number_of_quads\"\n",
    "}\n"
   ]
  },
  {
   "cell_type": "code",
   "execution_count": 60,
   "metadata": {},
   "outputs": [
    {
     "name": "stdout",
     "output_type": "stream",
     "text": [
      "Missing key: Sub-commutated Ancilliary Data Word\n",
      "('Packet Sequence Count', 1.0, 129.0)\n",
      "('Packet Data Length', 7654.0, 7653.0)\n",
      "('Fine Time', 0.35900115966796875, 23527.0)\n",
      "('Rx Gain', -6.0, 12.0)\n",
      "('Tx Ramp Rate', 1344932774550.9956, 34770.0)\n",
      "('Tx Pulse Start Frequency', -29704503.224123616, 12970.0)\n",
      "('Tx Pulse Length', 4.41724329115483e-05, 1658.0)\n",
      "('PRI', 0.0005194923216780943, 19499.0)\n",
      "('SWST', 9.593783529221075e-05, 3601.0)\n",
      "('SWL', 4.683663272527256e-05, 1758.0)\n"
     ]
    }
   ],
   "source": [
    "VERBOSE = False\n",
    "\n",
    "idx = 129\n",
    "\n",
    "row_rich = meta_rich.iloc[idx]\n",
    "row_s1isp = meta_s1isp.iloc[idx]\n",
    "\n",
    "keys = list(row_rich.keys())\n",
    "\n",
    "non_equal_elements = []\n",
    "\n",
    "for key in keys:\n",
    "    try: \n",
    "        elem_rich = row_rich[key]\n",
    "        elem_s1isp = row_s1isp[richa_to_s1isp[key]]\n",
    "        \n",
    "        if VERBOSE:\n",
    "            print(key, elem_rich, float(elem_s1isp), elem_rich == float(elem_s1isp))\n",
    "        \n",
    "        if not elem_rich == float(elem_s1isp):\n",
    "            non_equal_elements.append((key, float(elem_rich), float(elem_s1isp)))\n",
    "\n",
    "    except:\n",
    "        print('Missing key:', key)\n",
    "        continue\n",
    "\n",
    "for elem in non_equal_elements:\n",
    "    print(elem)"
   ]
  },
  {
   "cell_type": "markdown",
   "metadata": {},
   "source": [
    "## Focusing:"
   ]
  },
  {
   "cell_type": "code",
   "execution_count": null,
   "metadata": {},
   "outputs": [],
   "source": [
    "radar_data = load('/Users/robertodelprete/Desktop/AutoFocusNet/Data/tmp/DATA/s1a-s3-raw-s-hh-20240524t213606-20240524t213631-054018-069139_pkt_0.pkl')\n",
    "metadata = load('/Users/robertodelprete/Desktop/AutoFocusNet/Data/tmp/DATA/s1a-s3-raw-s-hh-20240524t213606-20240524t213631-054018-069139_pkt_0_metadata.pkl')\n",
    "ephemeris = load('/Users/robertodelprete/Desktop/AutoFocusNet/Data/tmp/DATA/s1a-s3-raw-s-hh-20240524t213606-20240524t213631-054018-069139_ephemeris.pkl')"
   ]
  },
  {
   "cell_type": "code",
   "execution_count": null,
   "metadata": {},
   "outputs": [],
   "source": [
    "# plot_with_cdf(radar_data, figsize=(6,6))"
   ]
  },
  {
   "cell_type": "code",
   "execution_count": null,
   "metadata": {},
   "outputs": [],
   "source": [
    "RadarProcessor = coarseRDA(\n",
    "    raw_data={'echo':radar_data[:,:], 'ephemeris':ephemeris, 'metadata':metadata}, \n",
    "    verbose=False, \n",
    "    backend='custom'\n",
    ")\n"
   ]
  },
  {
   "cell_type": "code",
   "execution_count": null,
   "metadata": {},
   "outputs": [],
   "source": [
    "def multiply(a, b):\n",
    "    \"\"\"\n",
    "    Multiplies two arrays a and b using the specified backend.\n",
    "    \"\"\"\n",
    "    return a * b"
   ]
  },
  {
   "cell_type": "code",
   "execution_count": null,
   "metadata": {},
   "outputs": [],
   "source": [
    "RadarProcessor.fft2D()\n",
    "\n",
    "# RG compression\n",
    "RadarProcessor.radar_data = multiply(RadarProcessor.radar_data, \n",
    "                                RadarProcessor.get_range_filter())\n",
    "\n",
    "# RCMC\n",
    "RadarProcessor.radar_data = multiply(RadarProcessor.radar_data, \n",
    "                                RadarProcessor.get_RCMC())\n",
    "\n",
    "# IFFT Range #TODO: address this in a backend manner for supporting torch\n",
    "RadarProcessor.ifft_rg()\n",
    "\n",
    "# Az Compression\n",
    "RadarProcessor.radar_data = multiply(RadarProcessor.radar_data, \n",
    "                            RadarProcessor.get_azimuth_filter())\n",
    "\n",
    "\n",
    "# IFFT #TODO: address this in a backend manner for supporting torch\n",
    "RadarProcessor.ifft_az()"
   ]
  }
 ],
 "metadata": {
  "kernelspec": {
   "display_name": "autofocus",
   "language": "python",
   "name": "python3"
  },
  "language_info": {
   "codemirror_mode": {
    "name": "ipython",
    "version": 3
   },
   "file_extension": ".py",
   "mimetype": "text/x-python",
   "name": "python",
   "nbconvert_exporter": "python",
   "pygments_lexer": "ipython3",
   "version": "3.10.14"
  }
 },
 "nbformat": 4,
 "nbformat_minor": 2
}
