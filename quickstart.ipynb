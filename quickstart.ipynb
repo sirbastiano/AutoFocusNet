{
 "cells": [
  {
   "cell_type": "code",
   "execution_count": null,
   "metadata": {},
   "outputs": [],
   "source": [
    "# !python3 -m pip install --editable .\n",
    "# !pip3 install torch torchvision torchaudio --index-url https://download.pytorch.org/whl/cu118"
   ]
  },
  {
   "cell_type": "markdown",
   "metadata": {},
   "source": [
    "### Read config"
   ]
  },
  {
   "cell_type": "code",
   "execution_count": null,
   "metadata": {},
   "outputs": [],
   "source": [
    "import configparser\n",
    "import os\n",
    "\n",
    "# Load configuration variables from a file\n",
    "config = configparser.ConfigParser()\n",
    "# To launch from internal folders.\n",
    "try:\n",
    "    config.read(\"config.ini\")\n",
    "    SARLENS_DIR = config[\"DIRECTORIES\"][\"SARLENS_DIR\"]\n",
    "except KeyError:\n",
    "    config.read(\"../config.ini\")\n",
    "    SARLENS_DIR = config[\"DIRECTORIES\"][\"SARLENS_DIR\"]\n",
    "    \n",
    "print(SARLENS_DIR)\n",
    "# Set environment variables\n",
    "os.environ[\"SARLENS_DIR\"] = SARLENS_DIR\n",
    "USERNAME, PSW = config[\"DATABASE\"][\"DB_USER\"], config[\"DATABASE\"][\"DB_PASSWORD\"]"
   ]
  },
  {
   "cell_type": "code",
   "execution_count": 4,
   "metadata": {},
   "outputs": [],
   "source": [
    "import SARLens\n",
    "from pathlib import Path "
   ]
  },
  {
   "cell_type": "markdown",
   "metadata": {},
   "source": [
    "### Download a product"
   ]
  },
  {
   "cell_type": "code",
   "execution_count": null,
   "metadata": {},
   "outputs": [],
   "source": [
    "user = 'insert username'\n",
    "psw = 'insert psw'\n",
    "\n",
    "SARLens_dir = 'insert_sarlens_path'\n",
    "\n",
    "%python {SARLens_dir}/utils/downlaoder/search.py --download --wkt 'POLYGON((-46.5585 -24.2313,-46.0254 -24.2313,-46.0254 -23.7917,-46.5585 -23.7917,-46.5585 -24.2313))' --start '2012-01-01' --end '2024-05-31' --out /Data_large/marine/PythonProjects/AutoFocusNet/Data/SANPAOLO --max 200 --username {user} --psw {psw} --start_idx 0"
   ]
  },
  {
   "cell_type": "markdown",
   "metadata": {},
   "source": [
    "### Unzip folder containg zip files:"
   ]
  },
  {
   "cell_type": "code",
   "execution_count": null,
   "metadata": {},
   "outputs": [],
   "source": [
    "zip_folder_path = 'Name/to/your/zip_folder_dir'\n",
    "\n",
    "zip_folder_name = 'SANPAOLO'\n",
    "# Unzip\n",
    "%run /Data_large/marine/PythonProjects/AutoFocusNet/SARLens/utils/downloader/unzipper.py -i {zip_folder_name}"
   ]
  },
  {
   "cell_type": "markdown",
   "metadata": {},
   "source": [
    "### Decoder of the dat files:"
   ]
  },
  {
   "cell_type": "code",
   "execution_count": 5,
   "metadata": {},
   "outputs": [
    {
     "name": "stdout",
     "output_type": "stream",
     "text": [
      "Decoding Level 0 file...\n"
     ]
    },
    {
     "name": "stderr",
     "output_type": "stream",
     "text": [
      "decoded: 48941 packets [00:58, 831.98 packets/s]\n",
      "Incomplete sub-commutated data cycle: 26\n",
      "Incomplete sub-commutated data cycle: 57\n",
      "Incomplete sub-commutated data cycle: 88\n",
      "Incomplete sub-commutated data cycle: 119\n",
      "Incomplete sub-commutated data cycle: 150\n",
      "Incomplete sub-commutated data cycle: 181\n",
      "Incomplete sub-commutated data cycle: 212\n",
      "Incomplete sub-commutated data cycle: 243\n",
      "Incomplete sub-commutated data cycle: 274\n",
      "Incomplete sub-commutated data cycle: 305\n",
      "Incomplete sub-commutated data cycle: 336\n",
      "Incomplete sub-commutated data cycle: 367\n",
      "Incomplete sub-commutated data cycle: 398\n",
      "Incomplete sub-commutated data cycle: 429\n",
      "Incomplete sub-commutated data cycle: 460\n",
      "Incomplete sub-commutated data cycle: 491\n",
      "Incomplete sub-commutated data cycle: 522\n",
      "Incomplete sub-commutated data cycle: 553\n",
      "Incomplete sub-commutated data cycle: 584\n",
      "Incomplete sub-commutated data cycle: 615\n",
      "Incomplete sub-commutated data cycle: 646\n",
      "Incomplete sub-commutated data cycle: 677\n",
      "Incomplete sub-commutated data cycle: 708\n",
      "Incomplete sub-commutated data cycle: 739\n",
      "Incomplete sub-commutated data cycle: 770\n"
     ]
    }
   ],
   "source": [
    "# Decoder \n",
    "input_dat = f'/Users/robertodelprete/Desktop/AutoFocusNet/Data/DATA/S1A_S3_RAW__0SDH_20240524T213606_20240524T213631_054018_069139_241A.SAFE/s1a-s3-raw-s-hh-20240524t213606-20240524t213631-054018-069139.dat'\n",
    "output_folder = f'{SARLENS_DIR}/Data/tmp/{Path(input_dat).parent.parent.name}'\n",
    "os.makedirs(output_folder, exist_ok=True)\n",
    "\n",
    "pyfile='/Users/robertodelprete/Desktop/AutoFocusNet/SARLens/processor/decode.py'\n",
    "\n",
    "# %run -m SARLens.processor.decode -i {input_dat} -o {output_folder} \n",
    "%run {pyfile} -i {input_dat} -o {output_folder} "
   ]
  },
  {
   "cell_type": "markdown",
   "metadata": {},
   "source": [
    "### Coarse RDA focusing of the decoded bursts:"
   ]
  },
  {
   "cell_type": "code",
   "execution_count": null,
   "metadata": {},
   "outputs": [],
   "source": [
    "path = '/Users/robertodelprete/Desktop/AutoFocusNet/Data/DATA/S1A_S3_RAW__0SDH_20240524T213606_20240524T213631_054018_069139_241A.SAFE/s1a-s3-raw-s-hv-20240524t213606-20240524t213631-054018-069139.dat'\n",
    "\n",
    "input_dat = path\n",
    "output_folder = '/Users/robertodelprete/Desktop/AutoFocusNet/Data/DECODED/s1a-s3-raw-s-hv-20240524t213606-20240524t213631-054018-069139'\n",
    "burst_n = 8 # or 9 \n",
    "%run -m SARLens.processor.focus -i {input_dat} -o {output_folder} -p {burst_n}"
   ]
  }
 ],
 "metadata": {
  "kernelspec": {
   "display_name": "test",
   "language": "python",
   "name": "python3"
  },
  "language_info": {
   "codemirror_mode": {
    "name": "ipython",
    "version": 3
   },
   "file_extension": ".py",
   "mimetype": "text/x-python",
   "name": "python",
   "nbconvert_exporter": "python",
   "pygments_lexer": "ipython3",
   "version": "3.10.14"
  }
 },
 "nbformat": 4,
 "nbformat_minor": 2
}
