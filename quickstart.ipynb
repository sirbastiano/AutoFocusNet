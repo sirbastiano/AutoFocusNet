{
 "cells": [
  {
   "cell_type": "code",
   "execution_count": null,
   "metadata": {},
   "outputs": [],
   "source": [
    "import SARLens\n",
    "from pathlib import Path "
   ]
  },
  {
   "cell_type": "markdown",
   "metadata": {},
   "source": [
    "### Unzip folder containg zip files:"
   ]
  },
  {
   "cell_type": "code",
   "execution_count": 3,
   "metadata": {},
   "outputs": [],
   "source": [
    "zip_folder_path = 'Path/to/your/zip_folder_dir'\n",
    "# Unzip\n",
    "%run -m SARLens.utils.downloader.unzipper -i {zip_folder_path}"
   ]
  },
  {
   "cell_type": "markdown",
   "metadata": {},
   "source": [
    "### Decoder of the dat files:"
   ]
  },
  {
   "cell_type": "code",
   "execution_count": null,
   "metadata": {},
   "outputs": [],
   "source": [
    "# Decoder \n",
    "input_dat = 'path_to_dat_file'\n",
    "output_folder = 'Path_to_folder_output_files'\n",
    "burst_n = 8 # or 9 \n",
    "%run SARLens.processor.decode -i {input_dat} -o {output_folder} -p {burst_n}"
   ]
  },
  {
   "cell_type": "markdown",
   "metadata": {},
   "source": [
    "### Coarse RDA focusing of the decoded bursts:"
   ]
  },
  {
   "cell_type": "code",
   "execution_count": 3,
   "metadata": {},
   "outputs": [
    {
     "name": "stdout",
     "output_type": "stream",
     "text": [
      "Decoding Level 0 file...\n"
     ]
    }
   ],
   "source": [
    "path = '/Users/robertodelprete/Desktop/AutoFocusNet/Data/DATA/S1A_S3_RAW__0SDH_20240524T213606_20240524T213631_054018_069139_241A.SAFE/s1a-s3-raw-s-hv-20240524t213606-20240524t213631-054018-069139.dat'\n",
    "\n",
    "input_dat = path\n",
    "output_folder = '/Users/robertodelprete/Desktop/AutoFocusNet/Data/DECODED/s1a-s3-raw-s-hv-20240524t213606-20240524t213631-054018-069139'\n",
    "burst_n = 8 # or 9 \n",
    "%run -m SARLens.processor.decode -i {input_dat} -o {output_folder} -p {burst_n}"
   ]
  }
 ],
 "metadata": {
  "kernelspec": {
   "display_name": "test",
   "language": "python",
   "name": "python3"
  },
  "language_info": {
   "codemirror_mode": {
    "name": "ipython",
    "version": 3
   },
   "file_extension": ".py",
   "mimetype": "text/x-python",
   "name": "python",
   "nbconvert_exporter": "python",
   "pygments_lexer": "ipython3",
   "version": "3.10.14"
  }
 },
 "nbformat": 4,
 "nbformat_minor": 2
}
